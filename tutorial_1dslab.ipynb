{
 "cells": [
  {
   "cell_type": "markdown",
   "metadata": {},
   "source": [
    "## 1d slab example for MaxwellSALT"
   ]
  },
  {
   "cell_type": "markdown",
   "metadata": {},
   "source": [
    "First, install the MaxwellSALT package using the instructions at github.com/wsshin/MaxwellSALT.jl. Then, load the MaxwellSALT package and create a blank SALT object, which will contain all the parameters of our laser simulation:"
   ]
  },
  {
   "cell_type": "code",
   "execution_count": 74,
   "metadata": {},
   "outputs": [],
   "source": [
    "using MaxwellSALT\n",
    "salt=SALT()\n",
    "set_unitlen!(salt,1e-3)"
   ]
  },
  {
   "cell_type": "markdown",
   "metadata": {},
   "source": [
    "Note we have made the unit length $1 \\mathrm{mm} = 10^{-3} \\mathrm{m}$, e.g. a length of 5 means 5 mm. Now let's input some parameters for a simple 1d structure consisting of a slab of uniform dielectric surrounded on both sides by air going to infinity, which we represent computationally using a finite region of air terminated by a perfectly matched layer (PML).\n",
    "\n",
    "We make the slab 1 mm thick, and use 100 grid points to discretize it:"
   ]
  },
  {
   "cell_type": "code",
   "execution_count": 75,
   "metadata": {},
   "outputs": [],
   "source": [
    "Lslab=1\n",
    "Nslab=100\n",
    "∆x=Lslab/Nslab;"
   ]
  },
  {
   "cell_type": "markdown",
   "metadata": {},
   "source": [
    "(note that the triangle symbol here is \\increment, not \\Delta). \n",
    "\n",
    "We also need to account for the air and PML in both directions. Let's make 20 pixels of air plus 10 pixels of PML in each direction, then compute the total length of the cell in the x direction accordingly:"
   ]
  },
  {
   "cell_type": "code",
   "execution_count": 76,
   "metadata": {},
   "outputs": [],
   "source": [
    "Nair=20\n",
    "Npml=10\n",
    "Lx=Lslab+2*(Nair+Npml)*∆x\n",
    "Ly,Lz=1,1;"
   ]
  },
  {
   "cell_type": "markdown",
   "metadata": {},
   "source": [
    "Note that for the y and z directions, everything is uniform and infinite, which we will model using periodic boundary conditions. Hence, set the dimensions to whatever.\n",
    "\n",
    "Next, set the coordinate bounds to go from 0 to L for all three coordinates, and for y and z directions, have only a single pixel, making the cell periodic in the y and z directions in order to make the problem 1d:"
   ]
  },
  {
   "cell_type": "code",
   "execution_count": 77,
   "metadata": {},
   "outputs": [],
   "source": [
    "set_bounds!(salt, ([0,0,0], [Lx,Ly,Lz]))\n",
    "set_∆l!(salt, [∆x, Ly, Lz])\n",
    "set_isbloch!(salt, [false,true,true])"
   ]
  },
  {
   "cell_type": "markdown",
   "metadata": {},
   "source": [
    "Set the PML pixels at the lower and upper ends in the x direction. Note we also need to choose a frequency for the PML. For simplicity, we set that frequency to the same as that of the gain, since in this case we will be looking for modes near there:"
   ]
  },
  {
   "cell_type": "code",
   "execution_count": 78,
   "metadata": {},
   "outputs": [],
   "source": [
    "ωa,γp=15,3\n",
    "set_Npml!(salt, ([Npml,0,0], [Npml,0,0]))\n",
    "set_pmlfreq!(salt,ωa)"
   ]
  },
  {
   "cell_type": "markdown",
   "metadata": {},
   "source": [
    "Here, γp is the $\\gamma_\\perp$ Lorentzian relaxation factor from SALT.\n",
    "\n",
    "Then, we set the background to vacuum with ε=1, and also add the slab itself as an object with uniform ε=2.25, centered at Lx/2 and with a width of Lslab:"
   ]
  },
  {
   "cell_type": "code",
   "execution_count": 79,
   "metadata": {},
   "outputs": [],
   "source": [
    "set_background!(salt,\"Vacuum\",1.0)\n",
    "εslab=2.25\n",
    "slab=Box([Lx/2,Ly/2,Lz/2],[Lslab,Ly,Lz])\n",
    "add_obj!(salt,\"Dielectric\",εslab,slab)"
   ]
  },
  {
   "cell_type": "markdown",
   "metadata": {},
   "source": [
    "Having completed the specification of the structure and geometry, we can now obtain the cold-cavity dielectric function. Note that every three consecutive elements of this vector contain the xx, yy, and zz diagonal tensor components of the permittivity, so the vector's length is actually three times the number of grid points in the Nx direction:"
   ]
  },
  {
   "cell_type": "code",
   "execution_count": 80,
   "metadata": {},
   "outputs": [],
   "source": [
    "εc=get_εcold(salt)\n",
    "Nx=length(εc)÷3;"
   ]
  },
  {
   "cell_type": "markdown",
   "metadata": {},
   "source": [
    "Let's plot the xx component (the other two components are the same):"
   ]
  },
  {
   "cell_type": "code",
   "execution_count": 81,
   "metadata": {},
   "outputs": [
    {
     "data": {
      "image/png": "[encoded data removed]",
      "text/plain": [
       "Figure(PyObject <Figure size 640x480 with 1 Axes>)"
      ]
     },
     "metadata": {},
     "output_type": "display_data"
    }
   ],
   "source": [
    "using PyPlot\n",
    "xs=range(0,stop=Lx,length=Nx)\n",
    "plot(xs,real(εc[1:3:end]))\n",
    "xlabel(\"x\")\n",
    "ylabel(\"εc\");"
   ]
  },
  {
   "cell_type": "markdown",
   "metadata": {},
   "source": [
    "To perform the simulation, we also need the matrix for the Maxwell curl curl operator:"
   ]
  },
  {
   "cell_type": "code",
   "execution_count": 82,
   "metadata": {},
   "outputs": [],
   "source": [
    "CC=get_dblcurl(salt);"
   ]
  },
  {
   "cell_type": "markdown",
   "metadata": {},
   "source": [
    "Now use the linear eigensolver to find the passive modes closest to the gain frequency:"
   ]
  },
  {
   "cell_type": "code",
   "execution_count": 83,
   "metadata": {},
   "outputs": [],
   "source": [
    "using Arpack: eigs\n",
    "ω²,ψp=eigs(CC,Diagonal(εc),nev=6,sigma=ωa^2);"
   ]
  },
  {
   "cell_type": "markdown",
   "metadata": {},
   "source": [
    "Recall that we have chosen ωa^2=225, so let's see what modes we found:"
   ]
  },
  {
   "cell_type": "code",
   "execution_count": 84,
   "metadata": {},
   "outputs": [
    {
     "data": {
      "text/plain": [
       "6-element Array{Complex{Float64},1}:\n",
       " 217.29140271077918 - 31.677175227601126im\n",
       " 217.29140271077992 - 31.67717522760141im \n",
       "  283.8091663936545 - 36.054601605031245im\n",
       "  283.8091663936549 - 36.054601605031394im\n",
       "  159.5072586430092 - 27.248264031334415im\n",
       "  159.5072586430087 - 27.248264031334333im"
      ]
     },
     "execution_count": 84,
     "metadata": {},
     "output_type": "execute_result"
    }
   ],
   "source": [
    "ω²"
   ]
  },
  {
   "cell_type": "markdown",
   "metadata": {},
   "source": [
    "The closest pole appears to have ω≈√217.29≈14.74. The poles come in degenerate pairs because of the two possible transverse polarizations. Note that the longitudinal x component of the field is very nearly zero:"
   ]
  },
  {
   "cell_type": "code",
   "execution_count": 85,
   "metadata": {},
   "outputs": [
    {
     "data": {
      "text/plain": [
       "5.159597844123551e-17"
      ]
     },
     "execution_count": 85,
     "metadata": {},
     "output_type": "execute_result"
    }
   ],
   "source": [
    "norm(ψp[:,1][1:3:end])"
   ]
  },
  {
   "cell_type": "markdown",
   "metadata": {},
   "source": [
    "Additionally, note that the two degenerate modes (the first two columns of the ψp found by eigs above) are not pure y and pure z polarizations, but some linear combination of them, as we can see by plotting the components of the first mode:"
   ]
  },
  {
   "cell_type": "code",
   "execution_count": 86,
   "metadata": {},
   "outputs": [
    {
     "data": {
      "image/png": "[encoded data removed]",
      "text/plain": [
       "Figure(PyObject <Figure size 640x480 with 1 Axes>)"
      ]
     },
     "metadata": {},
     "output_type": "display_data"
    }
   ],
   "source": [
    "plot(xs,abs.(ψp[:,1][2:3:end]))\n",
    "plot(xs,abs.(ψp[:,1][3:3:end]))\n",
    "xlabel(\"x\")\n",
    "ylabel(\"|Ey,z|\");"
   ]
  },
  {
   "cell_type": "markdown",
   "metadata": {},
   "source": [
    "For simplicity, let's extract a copy of the first mode, then zero all but its z component, which from the above plot is the largest:"
   ]
  },
  {
   "cell_type": "code",
   "execution_count": 87,
   "metadata": {},
   "outputs": [],
   "source": [
    "ω=√ω²[1]\n",
    "ψ=copy(ψp[:,1])\n",
    "ψ[1:3:end].=0\n",
    "ψ[2:3:end].=0;"
   ]
  },
  {
   "cell_type": "markdown",
   "metadata": {},
   "source": [
    "Now let's start pumping the gain. For simplicity, assume that our gain atoms coincide with the dielectric slab, and also that only one atomic class with weight 1.0. Later on, we may use multiple classes with prespecified weights."
   ]
  },
  {
   "cell_type": "code",
   "execution_count": 88,
   "metadata": {},
   "outputs": [],
   "source": [
    "set_gainparam!(salt,[ωa],[γp],[1.0])\n",
    "add_gainobj!(salt,slab)"
   ]
  },
  {
   "cell_type": "markdown",
   "metadata": {},
   "source": [
    "Now set the initial guess and start the simulation. Note that the system we are computing can be solved exactly using simple semi-analytical transfer matrix methods, and the threshold is approximately 0.36."
   ]
  },
  {
   "cell_type": "code",
   "execution_count": 89,
   "metadata": {},
   "outputs": [
    {
     "name": "stdout",
     "output_type": "stream",
     "text": [
      "\n",
      "Start SALT simulation.\n",
      "d = 0.0:\n",
      "  Solve lasing eq. with modes m = Int64[] where aₗ²[m=1:1] = [0.0]:\n",
      "    Initial residual norm: ‖leq₀‖ = Inf\n",
      "    No. of Anderson steps = 0 (0.000136 sec), ‖leq‖ = 0.000e+00, ‖leq‖/‖leq₀‖ = NaN\n",
      "    Lasing solution: aₗ² = [0.0], ωₗ = [0.0]\n",
      "  Solve nonlasing eq. with modes m = [1] where ωₙₗ[m=1:1] = [14.7797-1.07164im]:\n",
      "    mode 1: No. of Newton steps = 1 (0.000538 sec), ‖nleq‖ = 5.358e-11, ‖nleq‖/‖nleq₀‖ = 1.000e+00\n",
      "    Nonlasing solution: ωₙₗ = [14.7797-1.07164im]\n",
      "d = 0.01:\n",
      "  Solve lasing eq. with modes m = Int64[] where aₗ²[m=1:1] = [0.0]:\n",
      "    Initial residual norm: ‖leq₀‖ = Inf\n",
      "    No. of Anderson steps = 0 (0.000056 sec), ‖leq‖ = 0.000e+00, ‖leq‖/‖leq₀‖ = NaN\n",
      "    Lasing solution: aₗ² = [0.0], ωₗ = [0.0]\n",
      "  Solve nonlasing eq. with modes m = [1] where ωₙₗ[m=1:1] = [14.7797-1.07164im]:\n",
      "    mode 1: No. of Newton steps = 3 (0.001455 sec), ‖nleq‖ = 4.560e-05, ‖nleq‖/‖nleq₀‖ = 2.623e-06\n",
      "    Nonlasing solution: ωₙₗ = [14.7935-1.02137im]\n",
      "d = 0.02:\n",
      "  Solve lasing eq. with modes m = Int64[] where aₗ²[m=1:1] = [0.0]:\n",
      "    Initial residual norm: ‖leq₀‖ = Inf\n",
      "    No. of Anderson steps = 0 (0.000055 sec), ‖leq‖ = 0.000e+00, ‖leq‖/‖leq₀‖ = NaN\n",
      "    Lasing solution: aₗ² = [0.0], ωₗ = [0.0]\n",
      "  Solve nonlasing eq. with modes m = [1] where ωₙₗ[m=1:1] = [14.7935-1.02137im]:\n",
      "    mode 1: No. of Newton steps = 3 (0.001458 sec), ‖nleq‖ = 1.304e-05, ‖nleq‖/‖nleq₀‖ = 7.598e-07\n",
      "    Nonlasing solution: ωₙₗ = [14.8054-0.972983im]\n",
      "d = 0.03:\n",
      "  Solve lasing eq. with modes m = Int64[] where aₗ²[m=1:1] = [0.0]:\n",
      "    Initial residual norm: ‖leq₀‖ = Inf\n",
      "    No. of Anderson steps = 0 (0.000055 sec), ‖leq‖ = 0.000e+00, ‖leq‖/‖leq₀‖ = NaN\n",
      "    Lasing solution: aₗ² = [0.0], ωₗ = [0.0]\n",
      "  Solve nonlasing eq. with modes m = [1] where ωₙₗ[m=1:1] = [14.8054-0.972983im]:\n",
      "    mode 1: No. of Newton steps = 3 (0.001150 sec), ‖nleq‖ = 1.026e-05, ‖nleq‖/‖nleq₀‖ = 6.049e-07\n",
      "    Nonlasing solution: ωₙₗ = [14.8158-0.926341im]\n",
      "d = 0.04:\n",
      "  Solve lasing eq. with modes m = Int64[] where aₗ²[m=1:1] = [0.0]:\n",
      "    Initial residual norm: ‖leq₀‖ = Inf\n",
      "    No. of Anderson steps = 0 (0.000047 sec), ‖leq‖ = 0.000e+00, ‖leq‖/‖leq₀‖ = NaN\n",
      "    Lasing solution: aₗ² = [0.0], ωₗ = [0.0]\n",
      "  Solve nonlasing eq. with modes m = [1] where ωₙₗ[m=1:1] = [14.8158-0.926341im]:\n",
      "    mode 1: No. of Newton steps = 3 (0.001185 sec), ‖nleq‖ = 8.410e-06, ‖nleq‖/‖nleq₀‖ = 5.012e-07\n",
      "    Nonlasing solution: ωₙₗ = [14.8247-0.881313im]\n",
      "d = 0.05:\n",
      "  Solve lasing eq. with modes m = Int64[] where aₗ²[m=1:1] = [0.0]:\n",
      "    Initial residual norm: ‖leq₀‖ = Inf\n",
      "    No. of Anderson steps = 0 (0.000051 sec), ‖leq‖ = 0.000e+00, ‖leq‖/‖leq₀‖ = NaN\n",
      "    Lasing solution: aₗ² = [0.0], ωₗ = [0.0]\n",
      "  Solve nonlasing eq. with modes m = [1] where ωₙₗ[m=1:1] = [14.8247-0.881313im]:\n",
      "    mode 1: No. of Newton steps = 3 (0.011638 sec), ‖nleq‖ = 7.113e-06, ‖nleq‖/‖nleq₀‖ = 4.284e-07\n",
      "    Nonlasing solution: ωₙₗ = [14.8326-0.837772im]\n",
      "d = 0.06:\n",
      "  Solve lasing eq. with modes m = Int64[] where aₗ²[m=1:1] = [0.0]:\n",
      "    Initial residual norm: ‖leq₀‖ = Inf\n",
      "    No. of Anderson steps = 0 (0.000046 sec), ‖leq‖ = 0.000e+00, ‖leq‖/‖leq₀‖ = NaN\n",
      "    Lasing solution: aₗ² = [0.0], ωₗ = [0.0]\n",
      "  Solve nonlasing eq. with modes m = [1] where ωₙₗ[m=1:1] = [14.8326-0.837772im]:\n",
      "    mode 1: No. of Newton steps = 3 (0.001024 sec), ‖nleq‖ = 6.161e-06, ‖nleq‖/‖nleq₀‖ = 3.747e-07\n",
      "    Nonlasing solution: ωₙₗ = [14.8395-0.795602im]\n",
      "d = 0.07:\n",
      "  Solve lasing eq. with modes m = Int64[] where aₗ²[m=1:1] = [0.0]:\n",
      "    Initial residual norm: ‖leq₀‖ = Inf\n",
      "    No. of Anderson steps = 0 (0.000037 sec), ‖leq‖ = 0.000e+00, ‖leq‖/‖leq₀‖ = NaN\n",
      "    Lasing solution: aₗ² = [0.0], ωₗ = [0.0]\n",
      "  Solve nonlasing eq. with modes m = [1] where ωₙₗ[m=1:1] = [14.8395-0.795602im]:\n",
      "    mode 1: No. of Newton steps = 3 (0.000969 sec), ‖nleq‖ = 5.431e-06, ‖nleq‖/‖nleq₀‖ = 3.334e-07\n",
      "    Nonlasing solution: ωₙₗ = [14.8456-0.754698im]\n",
      "d = 0.08:\n",
      "  Solve lasing eq. with modes m = Int64[] where aₗ²[m=1:1] = [0.0]:\n",
      "    Initial residual norm: ‖leq₀‖ = Inf\n",
      "    No. of Anderson steps = 0 (0.000034 sec), ‖leq‖ = 0.000e+00, ‖leq‖/‖leq₀‖ = NaN\n",
      "    Lasing solution: aₗ² = [0.0], ωₗ = [0.0]\n",
      "  Solve nonlasing eq. with modes m = [1] where ωₙₗ[m=1:1] = [14.8456-0.754698im]:\n",
      "    mode 1: No. of Newton steps = 3 (0.000948 sec), ‖nleq‖ = 4.851e-06, ‖nleq‖/‖nleq₀‖ = 3.003e-07\n",
      "    Nonlasing solution: ωₙₗ = [14.851-0.714965im]\n",
      "d = 0.09:\n",
      "  Solve lasing eq. with modes m = Int64[] where aₗ²[m=1:1] = [0.0]:\n",
      "    Initial residual norm: ‖leq₀‖ = Inf\n",
      "    No. of Anderson steps = 0 (0.000034 sec), ‖leq‖ = 0.000e+00, ‖leq‖/‖leq₀‖ = NaN\n",
      "    Lasing solution: aₗ² = [0.0], ωₗ = [0.0]\n",
      "  Solve nonlasing eq. with modes m = [1] where ωₙₗ[m=1:1] = [14.851-0.714965im]:\n",
      "    mode 1: No. of Newton steps = 3 (0.000974 sec), ‖nleq‖ = 4.375e-06, ‖nleq‖/‖nleq₀‖ = 2.731e-07\n",
      "    Nonlasing solution: ωₙₗ = [14.8558-0.676316im]\n",
      "d = 0.1:\n",
      "  Solve lasing eq. with modes m = Int64[] where aₗ²[m=1:1] = [0.0]:\n",
      "    Initial residual norm: ‖leq₀‖ = Inf\n",
      "    No. of Anderson steps = 0 (0.000033 sec), ‖leq‖ = 0.000e+00, ‖leq‖/‖leq₀‖ = NaN\n",
      "    Lasing solution: aₗ² = [0.0], ωₗ = [0.0]\n",
      "  Solve nonlasing eq. with modes m = [1] where ωₙₗ[m=1:1] = [14.8558-0.676316im]:\n",
      "    mode 1: No. of Newton steps = 3 (0.001196 sec), ‖nleq‖ = 3.977e-06, ‖nleq‖/‖nleq₀‖ = 2.502e-07\n",
      "    Nonlasing solution: ωₙₗ = [14.86-0.638675im]\n",
      "d = 0.11:\n",
      "  Solve lasing eq. with modes m = Int64[] where aₗ²[m=1:1] = [0.0]:\n",
      "    Initial residual norm: ‖leq₀‖ = Inf\n",
      "    No. of Anderson steps = 0 (0.000034 sec), ‖leq‖ = 0.000e+00, ‖leq‖/‖leq₀‖ = NaN\n",
      "    Lasing solution: aₗ² = [0.0], ωₗ = [0.0]\n",
      "  Solve nonlasing eq. with modes m = [1] where ωₙₗ[m=1:1] = [14.86-0.638675im]:\n",
      "    mode 1: No. of Newton steps = 3 (0.001203 sec), ‖nleq‖ = 3.638e-06, ‖nleq‖/‖nleq₀‖ = 2.305e-07\n",
      "    Nonlasing solution: ωₙₗ = [14.8637-0.601975im]\n",
      "d = 0.12:\n",
      "  Solve lasing eq. with modes m = Int64[] where aₗ²[m=1:1] = [0.0]:\n",
      "    Initial residual norm: ‖leq₀‖ = Inf\n",
      "    No. of Anderson steps = 0 (0.000033 sec), ‖leq‖ = 0.000e+00, ‖leq‖/‖leq₀‖ = NaN\n",
      "    Lasing solution: aₗ² = [0.0], ωₗ = [0.0]\n",
      "  Solve nonlasing eq. with modes m = [1] where ωₙₗ[m=1:1] = [14.8637-0.601975im]:\n",
      "    mode 1: No. of Newton steps = 3 (0.001199 sec), ‖nleq‖ = 3.346e-06, ‖nleq‖/‖nleq₀‖ = 2.134e-07\n",
      "    Nonlasing solution: ωₙₗ = [14.8671-0.566151im]\n",
      "d = 0.13:\n",
      "  Solve lasing eq. with modes m = Int64[] where aₗ²[m=1:1] = [0.0]:\n",
      "    Initial residual norm: ‖leq₀‖ = Inf\n",
      "    No. of Anderson steps = 0 (0.000034 sec), ‖leq‖ = 0.000e+00, ‖leq‖/‖leq₀‖ = NaN\n",
      "    Lasing solution: aₗ² = [0.0], ωₗ = [0.0]\n",
      "  Solve nonlasing eq. with modes m = [1] where ωₙₗ[m=1:1] = [14.8671-0.566151im]:\n",
      "    mode 1: No. of Newton steps = 3 (0.001189 sec), ‖nleq‖ = 3.090e-06, ‖nleq‖/‖nleq₀‖ = 1.984e-07\n",
      "    Nonlasing solution: ωₙₗ = [14.87-0.53115im]\n",
      "d = 0.14:\n",
      "  Solve lasing eq. with modes m = Int64[] where aₗ²[m=1:1] = [0.0]:\n",
      "    Initial residual norm: ‖leq₀‖ = Inf\n",
      "    No. of Anderson steps = 0 (0.000033 sec), ‖leq‖ = 0.000e+00, ‖leq‖/‖leq₀‖ = NaN\n",
      "    Lasing solution: aₗ² = [0.0], ωₗ = [0.0]\n",
      "  Solve nonlasing eq. with modes m = [1] where ωₙₗ[m=1:1] = [14.87-0.53115im]:\n",
      "    mode 1: No. of Newton steps = 3 (0.001206 sec), ‖nleq‖ = 2.865e-06, ‖nleq‖/‖nleq₀‖ = 1.851e-07\n",
      "    Nonlasing solution: ωₙₗ = [14.8725-0.49692im]\n",
      "d = 0.15:\n",
      "  Solve lasing eq. with modes m = Int64[] where aₗ²[m=1:1] = [0.0]:\n",
      "    Initial residual norm: ‖leq₀‖ = Inf\n",
      "    No. of Anderson steps = 0 (0.000034 sec), ‖leq‖ = 0.000e+00, ‖leq‖/‖leq₀‖ = NaN\n",
      "    Lasing solution: aₗ² = [0.0], ωₗ = [0.0]\n",
      "  Solve nonlasing eq. with modes m = [1] where ωₙₗ[m=1:1] = [14.8725-0.49692im]:\n",
      "    mode 1: No. of Newton steps = 3 (0.001191 sec), ‖nleq‖ = 2.665e-06, ‖nleq‖/‖nleq₀‖ = 1.733e-07\n",
      "    Nonlasing solution: ωₙₗ = [14.8748-0.463415im]\n",
      "d = 0.16:\n",
      "  Solve lasing eq. with modes m = Int64[] where aₗ²[m=1:1] = [0.0]:\n",
      "    Initial residual norm: ‖leq₀‖ = Inf\n",
      "    No. of Anderson steps = 0 (0.000033 sec), ‖leq‖ = 0.000e+00, ‖leq‖/‖leq₀‖ = NaN\n",
      "    Lasing solution: aₗ² = [0.0], ωₗ = [0.0]\n",
      "  Solve nonlasing eq. with modes m = [1] where ωₙₗ[m=1:1] = [14.8748-0.463415im]:\n",
      "    mode 1: No. of Newton steps = 3 (0.001467 sec), ‖nleq‖ = 2.487e-06, ‖nleq‖/‖nleq₀‖ = 1.626e-07\n",
      "    Nonlasing solution: ωₙₗ = [14.8768-0.430595im]\n",
      "d = 0.17:\n",
      "  Solve lasing eq. with modes m = Int64[] where aₗ²[m=1:1] = [0.0]:\n",
      "    Initial residual norm: ‖leq₀‖ = Inf\n",
      "    No. of Anderson steps = 0 (0.000046 sec), ‖leq‖ = 0.000e+00, ‖leq‖/‖leq₀‖ = NaN\n",
      "    Lasing solution: aₗ² = [0.0], ωₗ = [0.0]\n",
      "  Solve nonlasing eq. with modes m = [1] where ωₙₗ[m=1:1] = [14.8768-0.430595im]:\n",
      "    mode 1: No. of Newton steps = 3 (0.000951 sec), ‖nleq‖ = 2.328e-06, ‖nleq‖/‖nleq₀‖ = 1.530e-07\n",
      "    Nonlasing solution: ωₙₗ = [14.8785-0.39842im]\n",
      "d = 0.18:\n",
      "  Solve lasing eq. with modes m = Int64[] where aₗ²[m=1:1] = [0.0]:\n",
      "    Initial residual norm: ‖leq₀‖ = Inf\n",
      "    No. of Anderson steps = 0 (0.000035 sec), ‖leq‖ = 0.000e+00, ‖leq‖/‖leq₀‖ = NaN\n",
      "    Lasing solution: aₗ² = [0.0], ωₗ = [0.0]\n",
      "  Solve nonlasing eq. with modes m = [1] where ωₙₗ[m=1:1] = [14.8785-0.39842im]:\n",
      "    mode 1: No. of Newton steps = 3 (0.000944 sec), ‖nleq‖ = 2.184e-06, ‖nleq‖/‖nleq₀‖ = 1.443e-07\n",
      "    Nonlasing solution: ωₙₗ = [14.8799-0.366857im]\n",
      "d = 0.19:\n",
      "  Solve lasing eq. with modes m = Int64[] where aₗ²[m=1:1] = [0.0]:\n",
      "    Initial residual norm: ‖leq₀‖ = Inf\n"
     ]
    },
    {
     "name": "stdout",
     "output_type": "stream",
     "text": [
      "    No. of Anderson steps = 0 (0.000033 sec), ‖leq‖ = 0.000e+00, ‖leq‖/‖leq₀‖ = NaN\n",
      "    Lasing solution: aₗ² = [0.0], ωₗ = [0.0]\n",
      "  Solve nonlasing eq. with modes m = [1] where ωₙₗ[m=1:1] = [14.8799-0.366857im]:\n",
      "    mode 1: No. of Newton steps = 3 (0.005403 sec), ‖nleq‖ = 2.054e-06, ‖nleq‖/‖nleq₀‖ = 1.363e-07\n",
      "    Nonlasing solution: ωₙₗ = [14.8812-0.335873im]\n",
      "d = 0.2:\n",
      "  Solve lasing eq. with modes m = Int64[] where aₗ²[m=1:1] = [0.0]:\n",
      "    Initial residual norm: ‖leq₀‖ = Inf\n",
      "    No. of Anderson steps = 0 (0.000046 sec), ‖leq‖ = 0.000e+00, ‖leq‖/‖leq₀‖ = NaN\n",
      "    Lasing solution: aₗ² = [0.0], ωₗ = [0.0]\n",
      "  Solve nonlasing eq. with modes m = [1] where ωₙₗ[m=1:1] = [14.8812-0.335873im]:\n",
      "    mode 1: No. of Newton steps = 3 (0.000954 sec), ‖nleq‖ = 1.935e-06, ‖nleq‖/‖nleq₀‖ = 1.291e-07\n",
      "    Nonlasing solution: ωₙₗ = [14.8822-0.30544im]\n",
      "d = 0.21:\n",
      "  Solve lasing eq. with modes m = Int64[] where aₗ²[m=1:1] = [0.0]:\n",
      "    Initial residual norm: ‖leq₀‖ = Inf\n",
      "    No. of Anderson steps = 0 (0.000038 sec), ‖leq‖ = 0.000e+00, ‖leq‖/‖leq₀‖ = NaN\n",
      "    Lasing solution: aₗ² = [0.0], ωₗ = [0.0]\n",
      "  Solve nonlasing eq. with modes m = [1] where ωₙₗ[m=1:1] = [14.8822-0.30544im]:\n",
      "    mode 1: No. of Newton steps = 3 (0.000948 sec), ‖nleq‖ = 1.828e-06, ‖nleq‖/‖nleq₀‖ = 1.224e-07\n",
      "    Nonlasing solution: ωₙₗ = [14.883-0.27553im]\n",
      "d = 0.22:\n",
      "  Solve lasing eq. with modes m = Int64[] where aₗ²[m=1:1] = [0.0]:\n",
      "    Initial residual norm: ‖leq₀‖ = Inf\n",
      "    No. of Anderson steps = 0 (0.000034 sec), ‖leq‖ = 0.000e+00, ‖leq‖/‖leq₀‖ = NaN\n",
      "    Lasing solution: aₗ² = [0.0], ωₗ = [0.0]\n",
      "  Solve nonlasing eq. with modes m = [1] where ωₙₗ[m=1:1] = [14.883-0.27553im]:\n",
      "    mode 1: No. of Newton steps = 3 (0.001399 sec), ‖nleq‖ = 1.729e-06, ‖nleq‖/‖nleq₀‖ = 1.163e-07\n",
      "    Nonlasing solution: ωₙₗ = [14.8837-0.24612im]\n",
      "d = 0.23:\n",
      "  Solve lasing eq. with modes m = Int64[] where aₗ²[m=1:1] = [0.0]:\n",
      "    Initial residual norm: ‖leq₀‖ = Inf\n",
      "    No. of Anderson steps = 0 (0.000216 sec), ‖leq‖ = 0.000e+00, ‖leq‖/‖leq₀‖ = NaN\n",
      "    Lasing solution: aₗ² = [0.0], ωₗ = [0.0]\n",
      "  Solve nonlasing eq. with modes m = [1] where ωₙₗ[m=1:1] = [14.8837-0.24612im]:\n",
      "    mode 1: No. of Newton steps = 3 (0.001161 sec), ‖nleq‖ = 1.639e-06, ‖nleq‖/‖nleq₀‖ = 1.107e-07\n",
      "    Nonlasing solution: ωₙₗ = [14.8842-0.217185im]\n",
      "d = 0.24:\n",
      "  Solve lasing eq. with modes m = Int64[] where aₗ²[m=1:1] = [0.0]:\n",
      "    Initial residual norm: ‖leq₀‖ = Inf\n",
      "    No. of Anderson steps = 0 (0.000045 sec), ‖leq‖ = 0.000e+00, ‖leq‖/‖leq₀‖ = NaN\n",
      "    Lasing solution: aₗ² = [0.0], ωₗ = [0.0]\n",
      "  Solve nonlasing eq. with modes m = [1] where ωₙₗ[m=1:1] = [14.8842-0.217185im]:\n",
      "    mode 1: No. of Newton steps = 3 (0.000975 sec), ‖nleq‖ = 1.556e-06, ‖nleq‖/‖nleq₀‖ = 1.055e-07\n",
      "    Nonlasing solution: ωₙₗ = [14.8845-0.188706im]\n",
      "d = 0.25:\n",
      "  Solve lasing eq. with modes m = Int64[] where aₗ²[m=1:1] = [0.0]:\n",
      "    Initial residual norm: ‖leq₀‖ = Inf\n",
      "    No. of Anderson steps = 0 (0.001108 sec), ‖leq‖ = 0.000e+00, ‖leq‖/‖leq₀‖ = NaN\n",
      "    Lasing solution: aₗ² = [0.0], ωₗ = [0.0]\n",
      "  Solve nonlasing eq. with modes m = [1] where ωₙₗ[m=1:1] = [14.8845-0.188706im]:\n",
      "    mode 1: No. of Newton steps = 3 (0.001407 sec), ‖nleq‖ = 1.427e-06, ‖nleq‖/‖nleq₀‖ = 9.716e-08\n",
      "    Nonlasing solution: ωₙₗ = [14.8847-0.160661im]\n",
      "d = 0.26:\n",
      "  Solve lasing eq. with modes m = Int64[] where aₗ²[m=1:1] = [0.0]:\n",
      "    Initial residual norm: ‖leq₀‖ = Inf\n",
      "    No. of Anderson steps = 0 (0.000048 sec), ‖leq‖ = 0.000e+00, ‖leq‖/‖leq₀‖ = NaN\n",
      "    Lasing solution: aₗ² = [0.0], ωₗ = [0.0]\n",
      "  Solve nonlasing eq. with modes m = [1] where ωₙₗ[m=1:1] = [14.8847-0.160661im]:\n",
      "    mode 1: No. of Newton steps = 3 (0.000984 sec), ‖nleq‖ = 1.358e-06, ‖nleq‖/‖nleq₀‖ = 9.282e-08\n",
      "    Nonlasing solution: ωₙₗ = [14.8848-0.133033im]\n",
      "d = 0.27:\n",
      "  Solve lasing eq. with modes m = Int64[] where aₗ²[m=1:1] = [0.0]:\n",
      "    Initial residual norm: ‖leq₀‖ = Inf\n",
      "    No. of Anderson steps = 0 (0.000040 sec), ‖leq‖ = 0.000e+00, ‖leq‖/‖leq₀‖ = NaN\n",
      "    Lasing solution: aₗ² = [0.0], ωₗ = [0.0]\n",
      "  Solve nonlasing eq. with modes m = [1] where ωₙₗ[m=1:1] = [14.8848-0.133033im]:\n",
      "    mode 1: No. of Newton steps = 3 (0.000953 sec), ‖nleq‖ = 1.294e-06, ‖nleq‖/‖nleq₀‖ = 8.879e-08\n",
      "    Nonlasing solution: ωₙₗ = [14.8847-0.105805im]\n",
      "d = 0.28:\n",
      "  Solve lasing eq. with modes m = Int64[] where aₗ²[m=1:1] = [0.0]:\n",
      "    Initial residual norm: ‖leq₀‖ = Inf\n",
      "    No. of Anderson steps = 0 (0.000036 sec), ‖leq‖ = 0.000e+00, ‖leq‖/‖leq₀‖ = NaN\n",
      "    Lasing solution: aₗ² = [0.0], ωₗ = [0.0]\n",
      "  Solve nonlasing eq. with modes m = [1] where ωₙₗ[m=1:1] = [14.8847-0.105805im]:\n",
      "    mode 1: No. of Newton steps = 3 (0.000950 sec), ‖nleq‖ = 1.235e-06, ‖nleq‖/‖nleq₀‖ = 8.503e-08\n",
      "    Nonlasing solution: ωₙₗ = [14.8845-0.0789603im]\n",
      "d = 0.29:\n",
      "  Solve lasing eq. with modes m = Int64[] where aₗ²[m=1:1] = [0.0]:\n",
      "    Initial residual norm: ‖leq₀‖ = Inf\n",
      "    No. of Anderson steps = 0 (0.000035 sec), ‖leq‖ = 0.000e+00, ‖leq‖/‖leq₀‖ = NaN\n",
      "    Lasing solution: aₗ² = [0.0], ωₗ = [0.0]\n",
      "  Solve nonlasing eq. with modes m = [1] where ωₙₗ[m=1:1] = [14.8845-0.0789603im]:\n",
      "    mode 1: No. of Newton steps = 3 (0.001374 sec), ‖nleq‖ = 1.180e-06, ‖nleq‖/‖nleq₀‖ = 8.153e-08\n",
      "    Nonlasing solution: ωₙₗ = [14.8842-0.0524844im]\n",
      "d = 0.3:\n",
      "  Solve lasing eq. with modes m = Int64[] where aₗ²[m=1:1] = [0.0]:\n",
      "    Initial residual norm: ‖leq₀‖ = Inf\n",
      "    No. of Anderson steps = 0 (0.000129 sec), ‖leq‖ = 0.000e+00, ‖leq‖/‖leq₀‖ = NaN\n",
      "    Lasing solution: aₗ² = [0.0], ωₗ = [0.0]\n",
      "  Solve nonlasing eq. with modes m = [1] where ωₙₗ[m=1:1] = [14.8842-0.0524844im]:\n",
      "    mode 1: No. of Newton steps = 3 (0.001190 sec), ‖nleq‖ = 1.129e-06, ‖nleq‖/‖nleq₀‖ = 7.825e-08\n",
      "    Nonlasing solution: ωₙₗ = [14.8838-0.0263633im]\n",
      "d = 0.31:\n",
      "  Solve lasing eq. with modes m = Int64[] where aₗ²[m=1:1] = [0.0]:\n",
      "    Initial residual norm: ‖leq₀‖ = Inf\n",
      "    No. of Anderson steps = 0 (0.000047 sec), ‖leq‖ = 0.000e+00, ‖leq‖/‖leq₀‖ = NaN\n",
      "    Lasing solution: aₗ² = [0.0], ωₗ = [0.0]\n",
      "  Solve nonlasing eq. with modes m = [1] where ωₙₗ[m=1:1] = [14.8838-0.0263633im]:\n",
      "    mode 1: No. of Newton steps = 3 (0.002307 sec), ‖nleq‖ = 1.081e-06, ‖nleq‖/‖nleq₀‖ = 7.519e-08\n",
      "    Nonlasing solution: ωₙₗ = [14.8833-0.000583818im]\n",
      "d = 0.32:\n",
      "  Solve lasing eq. with modes m = Int64[] where aₗ²[m=1:1] = [0.0]:\n",
      "    Initial residual norm: ‖leq₀‖ = Inf\n",
      "    No. of Anderson steps = 0 (0.000061 sec), ‖leq‖ = 0.000e+00, ‖leq‖/‖leq₀‖ = NaN\n",
      "    Lasing solution: aₗ² = [0.0], ωₗ = [0.0]\n",
      "  Solve nonlasing eq. with modes m = [1] where ωₙₗ[m=1:1] = [14.8833-0.000583818im]:\n",
      "    mode 1: No. of Newton steps = 3 (0.001032 sec), ‖nleq‖ = 9.932e-07, ‖nleq‖/‖nleq₀‖ = 6.929e-08\n",
      "    Nonlasing solution: ωₙₗ = [14.8826+0.0248664im]\n",
      "\u001b[34m  Turning on mode 1 where ωₙₗ[m=1:1] = [14.8826+0.0248664im]...\u001b[39m\n",
      "\u001b[34m  Pushing nonlasing mode 1 with ωₙₗ[1] = 14.882644394045187 + 0.024866424276539675im to lasing solution.\u001b[39m\n",
      "\u001b[34m  Popping nonlasing mode 1 from nonlasing solution.\u001b[39m\n",
      "\u001b[34m  Done.\u001b[39m\n",
      "  Solve lasing eq. with modes m = [1] where aₗ²[m=1:1] = [0.0]:\n",
      "    Initial residual norm: ‖leq₀‖ = Inf\n",
      "    k = 1: ‖leq‖/‖leq₀‖ = 0.03249340025317677\n",
      "    k = 2: ‖leq‖/‖leq₀‖ = 0.0008096161345639515\n",
      "    k = 3: ‖leq‖/‖leq₀‖ = 3.3918260308088966e-6\n",
      "    k = 4: ‖leq‖/‖leq₀‖ = 2.049218632909566e-8\n",
      "    No. of Anderson steps = 4 (0.021038 sec), ‖leq‖ = 3.152e-07, ‖leq‖/‖leq₀‖ = 2.049e-08\n",
      "    Lasing solution: aₗ² = [0.0496838], ωₗ = [14.8829]\n",
      "  Solve nonlasing eq. with modes m = Int64[] where ωₙₗ[m=1:1] = [14.8826+0.0im]:\n",
      "    Nonlasing solution: ωₙₗ = [14.8826+0.0im]\n",
      "d = 0.33:\n",
      "  Solve lasing eq. with modes m = [1] where aₗ²[m=1:1] = [0.0496838]:\n",
      "    Initial residual norm: ‖leq₀‖ = Inf\n",
      "    k = 1: ‖leq‖/‖leq₀‖ = 0.03860234189476089\n",
      "    k = 2: ‖leq‖/‖leq₀‖ = 0.0015863131115591948\n",
      "    k = 3: ‖leq‖/‖leq₀‖ = 1.0104676276436449e-5\n",
      "    k = 4: ‖leq‖/‖leq₀‖ = 7.624914060603544e-8\n",
      "    No. of Anderson steps = 4 (0.016277 sec), ‖leq‖ = 1.061e-06, ‖leq‖/‖leq₀‖ = 7.625e-08\n",
      "    Lasing solution: aₗ² = [0.101162], ωₗ = [14.8826]\n",
      "  Solve nonlasing eq. with modes m = Int64[] where ωₙₗ[m=1:1] = [14.8826+0.0im]:\n",
      "    Nonlasing solution: ωₙₗ = [14.8826+0.0im]\n",
      "d = 0.34:\n",
      "  Solve lasing eq. with modes m = [1] where aₗ²[m=1:1] = [0.101162]:\n",
      "    Initial residual norm: ‖leq₀‖ = Inf\n",
      "    k = 1: ‖leq‖/‖leq₀‖ = 0.040762001554527694\n",
      "    k = 2: ‖leq‖/‖leq₀‖ = 0.002013707480656577\n",
      "    k = 3: ‖leq‖/‖leq₀‖ = 1.5652793970768284e-5\n",
      "    k = 4: ‖leq‖/‖leq₀‖ = 1.2276181382733624e-7\n",
      "    No. of Anderson steps = 4 (0.018411 sec), ‖leq‖ = 1.660e-06, ‖leq‖/‖leq₀‖ = 1.228e-07\n",
      "    Lasing solution: aₗ² = [0.153257], ωₗ = [14.8822]\n",
      "  Solve nonlasing eq. with modes m = Int64[] where ωₙₗ[m=1:1] = [14.8826+0.0im]:\n",
      "    Nonlasing solution: ωₙₗ = [14.8826+0.0im]\n",
      "d = 0.35:\n",
      "  Solve lasing eq. with modes m = [1] where aₗ²[m=1:1] = [0.153257]:\n",
      "    Initial residual norm: ‖leq₀‖ = Inf\n",
      "    k = 1: ‖leq‖/‖leq₀‖ = 0.04304720264058839\n",
      "    k = 2: ‖leq‖/‖leq₀‖ = 0.0024824310181622666\n",
      "    k = 3: ‖leq‖/‖leq₀‖ = 2.160667037958809e-5\n",
      "    k = 4: ‖leq‖/‖leq₀‖ = 2.495878194193669e-7\n",
      "    No. of Anderson steps = 4 (0.015553 sec), ‖leq‖ = 3.281e-06, ‖leq‖/‖leq₀‖ = 2.496e-07\n",
      "    Lasing solution: aₗ² = [0.205947], ωₗ = [14.8819]\n",
      "  Solve nonlasing eq. with modes m = Int64[] where ωₙₗ[m=1:1] = [14.8826+0.0im]:\n",
      "    Nonlasing solution: ωₙₗ = [14.8826+0.0im]\n",
      "d = 0.36:\n",
      "  Solve lasing eq. with modes m = [1] where aₗ²[m=1:1] = [0.205947]:\n",
      "    Initial residual norm: ‖leq₀‖ = Inf\n",
      "    k = 1: ‖leq‖/‖leq₀‖ = 0.045391107266332095\n",
      "    k = 2: ‖leq‖/‖leq₀‖ = 0.002988064737349325\n"
     ]
    },
    {
     "name": "stdout",
     "output_type": "stream",
     "text": [
      "    k = 3: ‖leq‖/‖leq₀‖ = 2.7802905885776093e-5\n",
      "    k = 4: ‖leq‖/‖leq₀‖ = 4.953946429886198e-7\n",
      "    No. of Anderson steps = 4 (0.016535 sec), ‖leq‖ = 6.338e-06, ‖leq‖/‖leq₀‖ = 4.954e-07\n",
      "    Lasing solution: aₗ² = [0.259208], ωₗ = [14.8815]\n",
      "  Solve nonlasing eq. with modes m = Int64[] where ωₙₗ[m=1:1] = [14.8826+0.0im]:\n",
      "    Nonlasing solution: ωₙₗ = [14.8826+0.0im]\n",
      "d = 0.37:\n",
      "  Solve lasing eq. with modes m = [1] where aₗ²[m=1:1] = [0.259208]:\n",
      "    Initial residual norm: ‖leq₀‖ = Inf\n",
      "    k = 1: ‖leq‖/‖leq₀‖ = 0.04774691630685301\n",
      "    k = 2: ‖leq‖/‖leq₀‖ = 0.0035268537996452944\n",
      "    k = 3: ‖leq‖/‖leq₀‖ = 3.4179196097596805e-5\n",
      "    k = 4: ‖leq‖/‖leq₀‖ = 8.761489465637319e-7\n",
      "    No. of Anderson steps = 4 (0.019386 sec), ‖leq‖ = 1.092e-05, ‖leq‖/‖leq₀‖ = 8.761e-07\n",
      "    Lasing solution: aₗ² = [0.313019], ωₗ = [14.8811]\n",
      "  Solve nonlasing eq. with modes m = Int64[] where ωₙₗ[m=1:1] = [14.8826+0.0im]:\n",
      "    Nonlasing solution: ωₙₗ = [14.8826+0.0im]\n",
      "d = 0.38:\n",
      "  Solve lasing eq. with modes m = [1] where aₗ²[m=1:1] = [0.313019]:\n",
      "    Initial residual norm: ‖leq₀‖ = Inf\n",
      "    k = 1: ‖leq‖/‖leq₀‖ = 0.050082472770572664\n",
      "    k = 2: ‖leq‖/‖leq₀‖ = 0.0040954254864071305\n",
      "    k = 3: ‖leq‖/‖leq₀‖ = 4.0829705096658304e-5\n",
      "    k = 4: ‖leq‖/‖leq₀‖ = 1.4109485335811433e-6\n",
      "    k = 5: ‖leq‖/‖leq₀‖ = 3.059606214241994e-8\n",
      "    No. of Anderson steps = 5 (0.022565 sec), ‖leq‖ = 3.716e-07, ‖leq‖/‖leq₀‖ = 3.060e-08\n",
      "    Lasing solution: aₗ² = [0.367361], ωₗ = [14.8807]\n",
      "  Solve nonlasing eq. with modes m = Int64[] where ωₙₗ[m=1:1] = [14.8826+0.0im]:\n",
      "    Nonlasing solution: ωₙₗ = [14.8826+0.0im]\n",
      "d = 0.39:\n",
      "  Solve lasing eq. with modes m = [1] where aₗ²[m=1:1] = [0.367361]:\n",
      "    Initial residual norm: ‖leq₀‖ = Inf\n",
      "    k = 1: ‖leq‖/‖leq₀‖ = 0.052376018343834735\n",
      "    k = 2: ‖leq‖/‖leq₀‖ = 0.0046906721387021235\n",
      "    k = 3: ‖leq‖/‖leq₀‖ = 4.802592609783954e-5\n",
      "    k = 4: ‖leq‖/‖leq₀‖ = 2.1209014059579212e-6\n",
      "    k = 5: ‖leq‖/‖leq₀‖ = 4.807646621219685e-8\n",
      "    No. of Anderson steps = 5 (0.025063 sec), ‖leq‖ = 5.696e-07, ‖leq‖/‖leq₀‖ = 4.808e-08\n",
      "    Lasing solution: aₗ² = [0.422212], ωₗ = [14.8804]\n",
      "  Solve nonlasing eq. with modes m = Int64[] where ωₙₗ[m=1:1] = [14.8826+0.0im]:\n",
      "    Nonlasing solution: ωₙₗ = [14.8826+0.0im]\n",
      "d = 0.4:\n",
      "  Solve lasing eq. with modes m = [1] where aₗ²[m=1:1] = [0.422212]:\n",
      "    Initial residual norm: ‖leq₀‖ = Inf\n",
      "    k = 1: ‖leq‖/‖leq₀‖ = 0.054613374594537634\n",
      "    k = 2: ‖leq‖/‖leq₀‖ = 0.005309723120824069\n",
      "    k = 3: ‖leq‖/‖leq₀‖ = 5.619393982893123e-5\n",
      "    k = 4: ‖leq‖/‖leq₀‖ = 3.027189665604467e-6\n",
      "    k = 5: ‖leq‖/‖leq₀‖ = 7.328078401540275e-8\n",
      "    No. of Anderson steps = 5 (0.022294 sec), ‖leq‖ = 8.475e-07, ‖leq‖/‖leq₀‖ = 7.328e-08\n",
      "    Lasing solution: aₗ² = [0.477556], ωₗ = [14.88]\n",
      "  Solve nonlasing eq. with modes m = Int64[] where ωₙₗ[m=1:1] = [14.8826+0.0im]:\n",
      "    Nonlasing solution: ωₙₗ = [14.8826+0.0im]\n"
     ]
    }
   ],
   "source": [
    "set_initguess!(salt,[ω],reshape(ψ,length(ψ),1))\n",
    "dvec=0:0.01:0.4\n",
    "ωout, aout, ψout, nAA, tAA = simulate!(salt, dvec, outωaψ=(true,true,true), τr_anderson=1e-6, m_anderson=20);"
   ]
  },
  {
   "cell_type": "markdown",
   "metadata": {},
   "source": [
    "ωout and ψout now contain the frequency and mode at each pump increment. We can plot ωout to see its trajectory in the complex plane:"
   ]
  },
  {
   "cell_type": "code",
   "execution_count": 90,
   "metadata": {},
   "outputs": [
    {
     "data": {
      "image/png": "[encoded data removed]",
      "text/plain": [
       "Figure(PyObject <Figure size 640x480 with 1 Axes>)"
      ]
     },
     "metadata": {},
     "output_type": "display_data"
    }
   ],
   "source": [
    "plot(real(ωout[1,:]),imag(ωout[1,:]))\n",
    "xlabel(\"Re[ω]\")\n",
    "ylabel(\"Im[ω]\");"
   ]
  },
  {
   "cell_type": "code",
   "execution_count": 96,
   "metadata": {},
   "outputs": [
    {
     "data": {
      "image/png": "[encoded data removed]",
      "text/plain": [
       "Figure(PyObject <Figure size 640x480 with 1 Axes>)"
      ]
     },
     "metadata": {},
     "output_type": "display_data"
    }
   ],
   "source": [
    "plot(dvec,aout[1,:].^2)\n",
    "title(\"amplitude of first lasing mode\")\n",
    "xlabel(\"D\")\n",
    "ylabel(\"|a|^2\");"
   ]
  }
 ],
 "metadata": {
  "kernelspec": {
   "display_name": "Julia 1.1.0",
   "language": "julia",
   "name": "julia-1.1"
  },
  "language_info": {
   "file_extension": ".jl",
   "mimetype": "application/julia",
   "name": "julia",
   "version": "1.1.0"
  }
 },
 "nbformat": 4,
 "nbformat_minor": 2
}
